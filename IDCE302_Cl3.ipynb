{
  "nbformat": 4,
  "nbformat_minor": 0,
  "metadata": {
    "colab": {
      "name": "IDCE302_Cl3.ipynb",
      "provenance": [],
      "authorship_tag": "ABX9TyOmFglgYSS6D0fZoXwfn+uQ",
      "include_colab_link": true
    },
    "kernelspec": {
      "name": "python3",
      "display_name": "Python 3"
    }
  },
  "cells": [
    {
      "cell_type": "markdown",
      "metadata": {
        "id": "view-in-github",
        "colab_type": "text"
      },
      "source": [
        "<a href=\"https://colab.research.google.com/github/TMFrancis/IDCE310_1st_assignment/blob/master/IDCE302_Cl3.ipynb\" target=\"_parent\"><img src=\"https://colab.research.google.com/assets/colab-badge.svg\" alt=\"Open In Colab\"/></a>"
      ]
    },
    {
      "cell_type": "code",
      "metadata": {
        "id": "Y11T7RmbJMNu",
        "colab_type": "code",
        "colab": {
          "base_uri": "https://localhost:8080/",
          "height": 68
        },
        "outputId": "2e2d44ca-dd6b-4bb2-ed6e-90a49d693c78"
      },
      "source": [
        "\"\"\"\n",
        "Author: Tom via Shadrock\n",
        "Copied: 8/28/20\n",
        "Note: part of IDCE310 presentation 3\n",
        "\"\"\"\n",
        "\n",
        "pi=3.14     #2 digits kept\n",
        "r=2.0\n",
        "\n",
        "#This line calculates area\n",
        "area=pi*(r**2)\n",
        "\n",
        "#This line calculates perimeter\n",
        "perim=2.0*pi*r\n",
        "\n",
        "print(\"Given r: \",r)\n",
        "print(\" Area is: \", area)\n",
        "print(\" Perimeter is: \",perim)\n"
      ],
      "execution_count": null,
      "outputs": [
        {
          "output_type": "stream",
          "text": [
            "Given r:  2.0\n",
            " Area is:  12.56\n",
            " Perimeter is:  12.56\n"
          ],
          "name": "stdout"
        }
      ]
    }
  ]
}